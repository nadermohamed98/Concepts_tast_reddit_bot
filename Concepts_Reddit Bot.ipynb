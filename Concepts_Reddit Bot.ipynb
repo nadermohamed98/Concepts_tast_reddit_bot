{
 "cells": [
  {
   "cell_type": "code",
   "execution_count": 1,
   "metadata": {},
   "outputs": [],
   "source": [
    "import praw"
   ]
  },
  {
   "cell_type": "code",
   "execution_count": 7,
   "metadata": {},
   "outputs": [],
   "source": [
    "def bot_login():\n",
    "    print (\"Logging in...\")\n",
    "    r = praw.Reddit(username = \"nadoraa98\",\n",
    "                    password = \"01150240104\",\n",
    "                    client_id = \"7MEP5SG8xYtVWw\",\n",
    "                    client_secret = \"SAp6UOjec6oQWgnVQI0UZQaoEG9dNw\",\n",
    "                    user_agent = \"Students Comment Replier about Quizes v0.1\")\n",
    "    print(\"logged in!\")\n",
    "    return r"
   ]
  },
  {
   "cell_type": "code",
   "execution_count": 17,
   "metadata": {},
   "outputs": [],
   "source": [
    "def run_bot(r):\n",
    "    print(\"Obtaining comments...\")\n",
    "    for comment in r.subreddit('test').comments(limit=5):\n",
    "        if \"quiz \" or \"كويز\" not in comment.body.lower():\n",
    "            print(\"String with \\\"quiz\\\" found in comment \" + comment.id)\n",
    "            comment.reply(\"Yes, you do have one :)\")\n",
    "            print (\"Replied to comment \" + comment.id)"
   ]
  },
  {
   "cell_type": "code",
   "execution_count": 18,
   "metadata": {},
   "outputs": [
    {
     "name": "stdout",
     "output_type": "stream",
     "text": [
      "Logging in...\n",
      "logged in!\n",
      "Obtaining comments...\n",
      "String with \"quiz\" found in comment ghbxi2t\n",
      "Replied to comment ghbxi2t\n",
      "String with \"quiz\" found in comment ghbxi0v\n",
      "Replied to comment ghbxi0v\n",
      "String with \"quiz\" found in comment ghbxhze\n",
      "Replied to comment ghbxhze\n",
      "String with \"quiz\" found in comment ghbxhxf\n",
      "Replied to comment ghbxhxf\n",
      "String with \"quiz\" found in comment ghbxhwc\n",
      "Replied to comment ghbxhwc\n"
     ]
    }
   ],
   "source": [
    "r = bot_login()\n",
    "run_bot(r)"
   ]
  },
  {
   "cell_type": "code",
   "execution_count": null,
   "metadata": {},
   "outputs": [],
   "source": []
  }
 ],
 "metadata": {
  "kernelspec": {
   "display_name": "Python 3",
   "language": "python",
   "name": "python3"
  },
  "language_info": {
   "codemirror_mode": {
    "name": "ipython",
    "version": 3
   },
   "file_extension": ".py",
   "mimetype": "text/x-python",
   "name": "python",
   "nbconvert_exporter": "python",
   "pygments_lexer": "ipython3",
   "version": "3.7.3"
  }
 },
 "nbformat": 4,
 "nbformat_minor": 2
}
